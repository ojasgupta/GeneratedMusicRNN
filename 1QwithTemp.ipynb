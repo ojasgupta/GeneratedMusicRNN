{
 "cells": [
  {
   "cell_type": "code",
   "execution_count": 1,
   "metadata": {
    "collapsed": false,
    "deletable": true,
    "editable": true
   },
   "outputs": [
    {
     "name": "stderr",
     "output_type": "stream",
     "text": [
      "Using Theano backend.\n",
      "Using gpu device 0: GeForce GTX TITAN X (CNMeM is disabled, cuDNN 4007)\n"
     ]
    }
   ],
   "source": [
    "import numpy as np\n",
    "import re\n",
    "import itertools\n",
    "from keras.utils import np_utils\n",
    "from keras.models import Sequential\n",
    "from keras.layers import Dense, SimpleRNN, Activation, Dropout\n",
    "from keras.callbacks import ModelCheckpoint\n",
    "from random import randint\n",
    "import matplotlib.pyplot as plt\n",
    "import keras"
   ]
  },
  {
   "cell_type": "code",
   "execution_count": 2,
   "metadata": {
    "collapsed": false,
    "deletable": true,
    "editable": true
   },
   "outputs": [],
   "source": [
    "charToInt = {}\n",
    "intToChar = {}\n",
    "def getEncoding(merged_data):\n",
    "    indx = 0\n",
    "    fin = []\n",
    "    for x in merged_data:\n",
    "        if x not in charToInt:\n",
    "            charToInt[x] = indx\n",
    "            intToChar[indx] = x\n",
    "            indx += 1\n",
    "        fin.append(charToInt[x])\n",
    "    return fin\n",
    "            \n",
    "def loadMusic(file):\n",
    "    f = open(file, 'r')\n",
    "    text = f.read()\n",
    "    text = text.replace(\"\\r\", \"\")\n",
    "    words = re.split(r\"(\\s+)\", text)\n",
    "    new_words = words #[x for x in words if (x != '<start>' and x != '<end>')] # get rid of <start> and <end>\n",
    "    data = []\n",
    "    [data.append(list(w)) for w in new_words]\n",
    "    merged_data = np.asarray(list(itertools.chain.from_iterable(data)))  \n",
    "#    s = set(merged_data)\n",
    "#    char_int = [ch:i for i,ch in enumerate(s)] # encode characters to integers\n",
    "#    int_char = [i:ch for i,ch in enumerate(s)] # encode integers to characters\n",
    "    encoded_data = getEncoding(merged_data)#[ord(x) for x in merged_data] # assing ascii labels to characters\n",
    "    return encoded_data\n",
    "\n",
    "def prepareData(data, t):\n",
    "\tdataX, dataY = [], []\n",
    "\tfor i in range(len(data) - t - 1):\n",
    "\t\ta = data[i:(i+t)]\n",
    "\t\tdataX.append(a)\n",
    "\t\tdataY.append(data[i + t])\n",
    "\treturn np.array(dataX), np.array(dataY)\n",
    "\n",
    "def splitData(data, v):\n",
    "    train_size = int(len(data[0]) * v) # v is between 0 and 1\n",
    "    train, test = (data[0][0:train_size],data[1][0:train_size]), (data[0][train_size:len(data[0])],data[1][train_size:len(data[0])])\n",
    "    return train, test\n",
    "\n",
    "def sliceData(data, s):\n",
    "    dataX, dataY = data[0], data[1]\n",
    "    X, Y = [], []\n",
    "    windowStride = 5\n",
    "    for i in range((len(data[0])-s - 1) / windowStride):\n",
    "        seq = i * windowStride #randint(1,len(data[0])-20)\n",
    "        sliceX = dataX[seq:seq+s]\n",
    "        sliceY = dataY[seq+s-1]\n",
    "        X.append(sliceX)\n",
    "        Y.append(sliceY)\n",
    "    data = (X, Y)\n",
    "    return splitData(data, 0.8)"
   ]
  },
  {
   "cell_type": "code",
   "execution_count": 4,
   "metadata": {
    "collapsed": false,
    "deletable": true,
    "editable": true
   },
   "outputs": [
    {
     "name": "stdout",
     "output_type": "stream",
     "text": [
      "0\n",
      "80229 80229\n",
      "(2406870, 93) (80229, 93) (601740, 93) (20058, 93)\n",
      "(2406870, 93) (80229, 93) (601740, 93) (20058, 93)\n"
     ]
    }
   ],
   "source": [
    "file = 'input.txt'\n",
    "abc_list = loadMusic(file) # read in data\n",
    "lvl = np.min(abc_list)\n",
    "abc_list = abc_list - lvl\n",
    "vocab = np.max(abc_list)\n",
    "print lvl\n",
    "\n",
    "\n",
    "data = prepareData(abc_list, 1) # prepare inputs and targets\n",
    "#dataslice = sliceData(data, s = 2) # slice into sequences of length s\n",
    "\n",
    "train_seq, test_seq = sliceData(data, 30)\n",
    "y_train = train_seq[1]\n",
    "y_test = test_seq[1]\n",
    "\n",
    "print len(y_train), len(train_seq[0])\n",
    "\n",
    "# one-hot encoding targets\n",
    "X_train = np_utils.to_categorical(train_seq[0], vocab+1)\n",
    "X_test = np_utils.to_categorical(test_seq[0], vocab+1)\n",
    "Y_train = np_utils.to_categorical(train_seq[1], vocab+1)\n",
    "Y_test = np_utils.to_categorical(test_seq[1], vocab+1)\n",
    "print X_train.shape, Y_train.shape, X_test.shape, Y_test.shape\n",
    "\n",
    "seq = 30; # sequence length\n",
    "X_train = X_train[0:int(X_train.shape[0]/seq)*seq][:]\n",
    "Y_train = Y_train[0:int(Y_train.shape[0])][:]\n",
    "X_test = X_test[0:int(X_test.shape[0]/seq)*seq][:]\n",
    "Y_test = Y_test[0:int(Y_test.shape[0])][:]\n",
    "print X_train.shape, Y_train.shape, X_test.shape, Y_test.shape\n",
    "\n",
    "X_train = X_train.reshape(int(X_train.shape[0]/seq), seq, X_train.shape[1]) # reshape input for RNN\n",
    "X_test = X_test.reshape(int(X_test.shape[0]/seq), seq, X_test.shape[1])\n",
    "Y_train = Y_train.reshape(int(Y_train.shape[0]), Y_train.shape[1]) # reshape input for RNN\n",
    "Y_test = Y_test.reshape(int(Y_test.shape[0]), Y_test.shape[1])\n"
   ]
  },
  {
   "cell_type": "code",
   "execution_count": 114,
   "metadata": {
    "collapsed": true
   },
   "outputs": [],
   "source": [
    "from keras import backend as K\n",
    "\n",
    "T = 1\n",
    "def softmax(x):\n",
    "    return K.softmax(x/T)"
   ]
  },
  {
   "cell_type": "code",
   "execution_count": 148,
   "metadata": {
    "collapsed": false,
    "deletable": true,
    "editable": true
   },
   "outputs": [],
   "source": [
    "hid_neurons = 100\n",
    "nb_classes = np.shape(Y_train)[-1]\n",
    "\n",
    "\n",
    "#%% create model\n",
    "model = Sequential()\n",
    "model.add(SimpleRNN(output_dim = hid_neurons,\n",
    "                    init='glorot_uniform', inner_init='orthogonal', activation='relu',\n",
    "                    W_regularizer=None, U_regularizer=None, b_regularizer=None,\n",
    "                    dropout_W=0.0, dropout_U=0.0, return_sequences = False,\n",
    "                    input_shape = X_train.shape[1:]))\n",
    "# model.add(Dropout(0.3))\n",
    "model.add(Dense(output_dim = nb_classes))\n",
    "model.add(Activation(softmax))\n",
    "# model.summary()\n",
    "\n",
    "adam_op = keras.optimizers.Adam(lr=0.001, beta_1=0.9, beta_2=0.999, epsilon=1e-08, decay=0.00001)\n",
    "\n",
    "\n",
    "model.compile(loss='categorical_crossentropy',\n",
    "              optimizer='adagrad',\n",
    "              metrics=['accuracy'])\n",
    "\n",
    "#%% train model and save weights\n",
    "filepath=\"weights-improvement-{epoch:02d}-{loss:.4f}.hdf5\"\n",
    "checkpoint = ModelCheckpoint(filepath, monitor='loss', verbose=1, save_best_only=True, mode='min')\n",
    "callbacks_list = [checkpoint]"
   ]
  },
  {
   "cell_type": "code",
   "execution_count": 149,
   "metadata": {
    "collapsed": false,
    "scrolled": true
   },
   "outputs": [
    {
     "name": "stdout",
     "output_type": "stream",
     "text": [
      "Train on 80229 samples, validate on 20058 samples\n",
      "Epoch 1/25\n",
      "80229/80229 [==============================] - 27s - loss: 13.8882 - acc: 0.1373 - val_loss: 14.1003 - val_acc: 0.1252\n",
      "Epoch 2/25\n",
      "80229/80229 [==============================] - 27s - loss: 13.9036 - acc: 0.1374 - val_loss: 14.1003 - val_acc: 0.1252\n",
      "Epoch 3/25\n",
      "80229/80229 [==============================] - 27s - loss: 13.9036 - acc: 0.1374 - val_loss: 14.1003 - val_acc: 0.1252\n",
      "Epoch 4/25\n",
      "80229/80229 [==============================] - 27s - loss: 13.9036 - acc: 0.1374 - val_loss: 14.1003 - val_acc: 0.1252\n",
      "Epoch 5/25\n",
      "80229/80229 [==============================] - 26s - loss: 13.9036 - acc: 0.1374 - val_loss: 14.1003 - val_acc: 0.1252\n",
      "Epoch 6/25\n",
      "80229/80229 [==============================] - 27s - loss: 13.9036 - acc: 0.1374 - val_loss: 14.1003 - val_acc: 0.1252\n",
      "Epoch 7/25\n",
      "80229/80229 [==============================] - 27s - loss: 13.9036 - acc: 0.1374 - val_loss: 14.1003 - val_acc: 0.1252\n",
      "Epoch 8/25\n",
      "80229/80229 [==============================] - 27s - loss: 13.9036 - acc: 0.1374 - val_loss: 14.1003 - val_acc: 0.1252\n",
      "Epoch 9/25\n",
      "80229/80229 [==============================] - 27s - loss: 13.9036 - acc: 0.1374 - val_loss: 14.1003 - val_acc: 0.1252\n",
      "Epoch 10/25\n",
      "80229/80229 [==============================] - 27s - loss: 13.9036 - acc: 0.1374 - val_loss: 14.1003 - val_acc: 0.1252\n",
      "Epoch 11/25\n",
      "80229/80229 [==============================] - 27s - loss: 13.9036 - acc: 0.1374 - val_loss: 14.1003 - val_acc: 0.1252\n",
      "Epoch 12/25\n",
      "80229/80229 [==============================] - 27s - loss: 13.9036 - acc: 0.1374 - val_loss: 14.1003 - val_acc: 0.1252\n",
      "Epoch 13/25\n",
      "80229/80229 [==============================] - 27s - loss: 13.9036 - acc: 0.1374 - val_loss: 14.1003 - val_acc: 0.1252\n",
      "Epoch 14/25\n",
      "80229/80229 [==============================] - 27s - loss: 13.9036 - acc: 0.1374 - val_loss: 14.1003 - val_acc: 0.1252\n",
      "Epoch 15/25\n",
      "80229/80229 [==============================] - 26s - loss: 13.9036 - acc: 0.1374 - val_loss: 14.1003 - val_acc: 0.1252\n",
      "Epoch 16/25\n",
      "80229/80229 [==============================] - 27s - loss: 13.9036 - acc: 0.1374 - val_loss: 14.1003 - val_acc: 0.1252\n",
      "Epoch 17/25\n",
      "80229/80229 [==============================] - 27s - loss: 13.9036 - acc: 0.1374 - val_loss: 14.1003 - val_acc: 0.1252\n",
      "Epoch 18/25\n",
      "80229/80229 [==============================] - 27s - loss: 13.9036 - acc: 0.1374 - val_loss: 14.1003 - val_acc: 0.1252\n",
      "Epoch 19/25\n",
      "80229/80229 [==============================] - 27s - loss: 13.9036 - acc: 0.1374 - val_loss: 14.1003 - val_acc: 0.1252\n",
      "Epoch 20/25\n",
      "80229/80229 [==============================] - 26s - loss: 13.9036 - acc: 0.1374 - val_loss: 14.1003 - val_acc: 0.1252\n",
      "Epoch 21/25\n",
      "80229/80229 [==============================] - 27s - loss: 13.9036 - acc: 0.1374 - val_loss: 14.1003 - val_acc: 0.1252\n",
      "Epoch 22/25\n",
      "80229/80229 [==============================] - 26s - loss: 13.9036 - acc: 0.1374 - val_loss: 14.1003 - val_acc: 0.1252\n",
      "Epoch 23/25\n",
      "80229/80229 [==============================] - 27s - loss: 13.9036 - acc: 0.1374 - val_loss: 14.1003 - val_acc: 0.1252\n",
      "Epoch 24/25\n",
      "80229/80229 [==============================] - 26s - loss: 13.9036 - acc: 0.1374 - val_loss: 14.1003 - val_acc: 0.1252\n",
      "Epoch 25/25\n",
      "80229/80229 [==============================] - 27s - loss: 13.9036 - acc: 0.1374 - val_loss: 14.1003 - val_acc: 0.1252\n"
     ]
    }
   ],
   "source": [
    "history = model.fit(X_train, Y_train, nb_epoch = 25, shuffle = True, validation_data = (X_test, Y_test))"
   ]
  },
  {
   "cell_type": "code",
   "execution_count": 150,
   "metadata": {
    "collapsed": false
   },
   "outputs": [
    {
     "data": {
      "text/plain": [
       "<matplotlib.figure.Figure at 0x7fded8f60050>"
      ]
     },
     "metadata": {},
     "output_type": "display_data"
    }
   ],
   "source": [
    "plt.plot(history.history['loss'])\n",
    "plt.plot(history.history['val_loss'])\n",
    "plt.title('Loss, T = 1, H = 100, adagrad')\n",
    "plt.ylabel('Loss')\n",
    "plt.xlabel('Epoch')\n",
    "plt.legend(['Train', 'Test'], loc='upper right')\n",
    "# plt.show()\n",
    "plt.savefig('Loss, T = 1, H = 100, adagrad')\n",
    "plt.gcf().clear()"
   ]
  },
  {
   "cell_type": "code",
   "execution_count": 151,
   "metadata": {
    "collapsed": false
   },
   "outputs": [
    {
     "data": {
      "text/plain": [
       "<matplotlib.figure.Figure at 0x7fded8fe6310>"
      ]
     },
     "metadata": {},
     "output_type": "display_data"
    }
   ],
   "source": [
    "plt.plot(history.history['acc'])\n",
    "plt.plot(history.history['val_acc'])\n",
    "plt.title('Accuracy with h = 100, T = 1, adagrad')\n",
    "plt.ylabel('accuracy')\n",
    "plt.xlabel('epoch')\n",
    "# fig = plt.show()\n",
    "# plt.show()\n",
    "plt.savefig('Acc, T = 1, H = 100, adagrad')\n",
    "plt.gcf().clear()"
   ]
  },
  {
   "cell_type": "code",
   "execution_count": 99,
   "metadata": {
    "collapsed": true
   },
   "outputs": [],
   "source": [
    "from keras import backend as K\n",
    "val = K.function([model.layers[0].input], [(model.layers[0].output)])"
   ]
  },
  {
   "cell_type": "code",
   "execution_count": null,
   "metadata": {
    "collapsed": false
   },
   "outputs": [],
   "source": [
    "inp = X_train[0, :, :]\n",
    "inp.shape\n",
    "import sys\n",
    "\n",
    "arr = []\n",
    "for i in range(1000):\n",
    "    out = model.predict(np.reshape(inp, (1, 30, 93)))\n",
    "    final = np.random.choice(np.arange(0, 93), p = out[0])\n",
    "    sys.stdout.write(intToChar[final])\n",
    "#     arr.append(val([np.reshape(inp, (1, 30, 93))])[0][0][3])\n",
    "    nextInp = np_utils.to_categorical(final, nb_classes=93)\n",
    "    inp = np.ma.row_stack((inp, nextInp))\n",
    "    inp = inp[1:]"
   ]
  },
  {
   "cell_type": "code",
   "execution_count": 76,
   "metadata": {
    "collapsed": false
   },
   "outputs": [
    {
     "data": {
      "text/plain": [
       "(0,)"
      ]
     },
     "execution_count": 76,
     "metadata": {},
     "output_type": "execute_result"
    }
   ],
   "source": [
    "np.array(arr).shape"
   ]
  },
  {
   "cell_type": "code",
   "execution_count": 413,
   "metadata": {
    "collapsed": false
   },
   "outputs": [],
   "source": [
    "from keras import backend as K\n",
    "val = K.function([model.layers[0].input], [(model.layers[0].output)])\n",
    "\n",
    "# Data is in music\n",
    "data = []\n",
    "for i in range(len(music)-30):\n",
    "    x = []\n",
    "    for j in range(i, i+30):\n",
    "        temp = 93*[0]\n",
    "        temp[charToInt[music[j]]] = 1\n",
    "        x.append(temp)\n",
    "    data.append(x)\n",
    "\n",
    "ndata = np.array(data[:200])\n",
    "\n",
    "inp = ndata[0, :, :]\n",
    "import sys\n",
    "\n",
    "arr = []\n",
    "for i in range(200):\n",
    "    inp = ndata[i]\n",
    "    arr.append(val([np.reshape(inp, (1, 30, 93))])[0][0][10])"
   ]
  },
  {
   "cell_type": "code",
   "execution_count": 29,
   "metadata": {
    "collapsed": false
   },
   "outputs": [
    {
     "data": {
      "image/png": "[encoded data removed]",
      "text/plain": [
       "<matplotlib.figure.Figure at 0x7fdee8219a90>"
      ]
     },
     "metadata": {},
     "output_type": "display_data"
    }
   ],
   "source": [
    "from matplotlib import cm as CM\n",
    "\n",
    "plt.figure(figsize=(10, 5)\n",
    "plt.imshow(np.reshape(arr, (20, 30)), cmap = 'RdBu')\n",
    "plt.colorbar()\n",
    "plt.show()"
   ]
  },
  {
   "cell_type": "code",
   "execution_count": null,
   "metadata": {
    "collapsed": true
   },
   "outputs": [],
   "source": []
  }
 ],
 "metadata": {
  "anaconda-cloud": {},
  "kernelspec": {
   "display_name": "Python 2",
   "language": "python",
   "name": "python2"
  },
  "language_info": {
   "codemirror_mode": {
    "name": "ipython",
    "version": 2
   },
   "file_extension": ".py",
   "mimetype": "text/x-python",
   "name": "python",
   "nbconvert_exporter": "python",
   "pygments_lexer": "ipython2",
   "version": "2.7.13"
  }
 },
 "nbformat": 4,
 "nbformat_minor": 1
}
